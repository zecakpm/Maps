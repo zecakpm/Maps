{
  "nbformat": 4,
  "nbformat_minor": 0,
  "metadata": {
    "colab": {
      "provenance": [],
      "authorship_tag": "ABX9TyPaP1x1eyRkTu9pIszXc5wz",
      "include_colab_link": true
    },
    "kernelspec": {
      "name": "python3",
      "display_name": "Python 3"
    },
    "language_info": {
      "name": "python"
    }
  },
  "cells": [
    {
      "cell_type": "markdown",
      "metadata": {
        "id": "view-in-github",
        "colab_type": "text"
      },
      "source": [
        "<a href=\"https://colab.research.google.com/github/zecakpm/maps/blob/main/GEE.ipynb\" target=\"_parent\"><img src=\"https://colab.research.google.com/assets/colab-badge.svg\" alt=\"Open In Colab\"/></a>"
      ]
    },
    {
      "cell_type": "markdown",
      "source": [
        "## Random Forest for Land Cover Classification - Google Earth Engine"
      ],
      "metadata": {
        "id": "WDnV0Gyh5T6R"
      }
    },
    {
      "cell_type": "code",
      "execution_count": 1,
      "metadata": {
        "id": "lLL8BWATBL0y",
        "colab": {
          "base_uri": "https://localhost:8080/"
        },
        "outputId": "53f73c08-bc46-4d9b-aafc-dbfb2aca79d8"
      },
      "outputs": [
        {
          "output_type": "stream",
          "name": "stdout",
          "text": [
            "To authorize access needed by Earth Engine, open the following URL in a web browser and follow the instructions. If the web browser does not start automatically, please manually browse the URL below.\n",
            "\n",
            "    https://code.earthengine.google.com/client-auth?scopes=https%3A//www.googleapis.com/auth/earthengine%20https%3A//www.googleapis.com/auth/devstorage.full_control&request_id=fmA2T-X9yaI0bDHFgH1GcXEbOm_0QjUX-RNG0Z3JEfQ&tc=7j0I13WSG8SzJYhZTpCHPyg151h2ULnsEIEVOcpDcxk&cc=d9szpRo6ZtJBS6vzPNdkI6Tw6mNQ_P--e9GkPfG42wM\n",
            "\n",
            "The authorization workflow will generate a code, which you should paste in the box below.\n",
            "Enter verification code: 4/1AVHEtk7rWNwXIFwT7RC9kWnvBIhd2AjMeJaedoUbwyRFxTcOWmTIEs4JBqU\n",
            "\n",
            "Successfully saved authorization token.\n"
          ]
        }
      ],
      "source": [
        "#Import libraries\n",
        "import ee\n",
        "ee.Authenticate()"
      ]
    },
    {
      "cell_type": "code",
      "source": [
        "#Import libraries\n",
        "import folium\n",
        "from folium.map import Layer"
      ],
      "metadata": {
        "id": "HcdWSqg8KRwF"
      },
      "execution_count": 19,
      "outputs": []
    },
    {
      "cell_type": "code",
      "source": [
        "#Initiate Goole Earth Engine\n",
        "ee.Initialize()"
      ],
      "metadata": {
        "id": "axfo7fORBafS"
      },
      "execution_count": 3,
      "outputs": []
    },
    {
      "cell_type": "code",
      "source": [
        "#ROI\n",
        "roi = ee.Geometry.Point([-6.266155, 53.350140])\n",
        "location = roi.centroid().coordinates().getInfo()[::-1]\n",
        "\n",
        "#Load Landsat 8 data\n",
        "bands = ['B1','B2','B3','B4','B5','B7']\n",
        "image = ee.ImageCollection('LANDSAT/LC08/C01/T1_SR') \\\n",
        ".filterDate('2021-01-01','2021-12-31') \\\n",
        ".filterBounds(roi) \\\n",
        ".sort('CLOUD_COVER') \\\n",
        ".first()"
      ],
      "metadata": {
        "id": "0_gXo7zFBjh_"
      },
      "execution_count": 78,
      "outputs": []
    },
    {
      "cell_type": "code",
      "source": [
        "#Import ESRI data\n",
        "lc = ee.ImageCollection(\"projects/sat-io/open-datasets/landcover/ESRI_Global-LULC_10m\").mosaic().clip(image.geometry())\n",
        "label = 'b1'"
      ],
      "metadata": {
        "id": "24KymTh6HPWE"
      },
      "execution_count": 79,
      "outputs": []
    },
    {
      "cell_type": "code",
      "source": [
        "#Sample the input imagery to get featureCollection of training data\n",
        "sample = image.addBands(lc).sample(**{\n",
        "    'region':image.geometry(),\n",
        "    'numPixels': 1000,\n",
        "    'seed': 0\n",
        "})"
      ],
      "metadata": {
        "id": "5VIp0N_7IMbI"
      },
      "execution_count": 80,
      "outputs": []
    },
    {
      "cell_type": "code",
      "source": [
        "#Spliting data\n",
        "sample = sample.randomColumn()\n",
        "trainingSample = sample.filter('random <= 0.8')\n",
        "validationSample = sample.filter('random > 0.8')"
      ],
      "metadata": {
        "id": "2Ty8x5AeIp7Z"
      },
      "execution_count": 81,
      "outputs": []
    },
    {
      "cell_type": "code",
      "source": [
        "#Classification Model \n",
        "trainedClassifier = ee.Classifier.smileRandomForest(10).train(**{\n",
        "    'features': trainingSample,\n",
        "    'classProperty': label,\n",
        "    'inputProperties': bands\n",
        "})\n",
        "\n",
        "model = image.classify(trainedClassifier)"
      ],
      "metadata": {
        "id": "HTe7xjMjJQWZ"
      },
      "execution_count": 82,
      "outputs": []
    },
    {
      "cell_type": "code",
      "source": [
        "# Define a method for displaying Earth Engine image tiles on a folium map\n",
        "# Func from google documentation >> https://colab.research.google.com/github/giswqs/qgis-earthengine-examples/blob/master/Folium/ee-api-folium-setup.ipynb\n",
        "def add_ee_layer(self, ee_object, vis_params, name):\n",
        "    \n",
        "    try:    \n",
        "        # display ee.Image()\n",
        "        if isinstance(ee_object, ee.image.Image):    \n",
        "            map_id_dict = ee.Image(ee_object).getMapId(vis_params)\n",
        "            folium.raster_layers.TileLayer(\n",
        "            tiles = map_id_dict['tile_fetcher'].url_format,\n",
        "            attr = 'Google Earth Engine',\n",
        "            name = name,\n",
        "            overlay = True,\n",
        "            control = True\n",
        "            ).add_to(self)\n",
        "        # display ee.ImageCollection()\n",
        "        elif isinstance(ee_object, ee.imagecollection.ImageCollection):    \n",
        "            ee_object_new = ee_object.mosaic()\n",
        "            map_id_dict = ee.Image(ee_object_new).getMapId(vis_params)\n",
        "            folium.raster_layers.TileLayer(\n",
        "            tiles = map_id_dict['tile_fetcher'].url_format,\n",
        "            attr = 'Google Earth Engine',\n",
        "            name = name,\n",
        "            overlay = True,\n",
        "            control = True\n",
        "            ).add_to(self)\n",
        "        # display ee.Geometry()\n",
        "        elif isinstance(ee_object, ee.geometry.Geometry):    \n",
        "            folium.GeoJson(\n",
        "            data = ee_object.getInfo(),\n",
        "            name = name,\n",
        "            overlay = True,\n",
        "            control = True\n",
        "        ).add_to(self)\n",
        "        # display ee.FeatureCollection()\n",
        "        elif isinstance(ee_object, ee.featurecollection.FeatureCollection):  \n",
        "            ee_object_new = ee.Image().paint(ee_object, 0, 2)\n",
        "            map_id_dict = ee.Image(ee_object_new).getMapId(vis_params)\n",
        "            folium.raster_layers.TileLayer(\n",
        "            tiles = map_id_dict['tile_fetcher'].url_format,\n",
        "            attr = 'Google Earth Engine',\n",
        "            name = name,\n",
        "            overlay = True,\n",
        "            control = True\n",
        "        ).add_to(self)\n",
        "    \n",
        "    except:\n",
        "        print(\"Could not display {}\".format(name))\n",
        "    \n",
        "# Add EE drawing method to folium\n",
        "folium.Map.add_ee_layer = add_ee_layer"
      ],
      "metadata": {
        "id": "47GvwZkn0C3I"
      },
      "execution_count": 84,
      "outputs": []
    },
    {
      "cell_type": "code",
      "source": [
        "#Map basic configuration / zoom\n",
        "Map = folium.Map(location=location,zoom_start = 8)"
      ],
      "metadata": {
        "id": "4R36gj-DLwc0"
      },
      "execution_count": 85,
      "outputs": []
    },
    {
      "cell_type": "code",
      "source": [
        "#Defining the base map\n",
        "basemaps = {'Google Satellite Hybrid': folium.TileLayer(\n",
        "    tiles = 'https://mt1.google.com/vt/lyrs-s&x-{x}&y-{y}&z-{z}',\n",
        "    attr = 'Google',\n",
        "    name = 'Google Satellite Hybrid',\n",
        "    overlay= True,\n",
        "    control = True\n",
        ")}"
      ],
      "metadata": {
        "id": "kwZ_P3qFL8-X"
      },
      "execution_count": 86,
      "outputs": []
    },
    {
      "cell_type": "code",
      "source": [
        "basemaps['Google Satellite Hybrid'].add_to(Map)"
      ],
      "metadata": {
        "colab": {
          "base_uri": "https://localhost:8080/"
        },
        "id": "IFbfKwW-M2IN",
        "outputId": "5802ee01-496f-453d-da0a-027cbb805ebe"
      },
      "execution_count": 87,
      "outputs": [
        {
          "output_type": "execute_result",
          "data": {
            "text/plain": [
              "<folium.raster_layers.TileLayer at 0x7f614dcb8f10>"
            ]
          },
          "metadata": {},
          "execution_count": 87
        }
      ]
    },
    {
      "cell_type": "code",
      "source": [
        "# Color dictionary\n",
        "dict = { \n",
        "    \"names\": [\n",
        "        \"Water\", # deep sky blue\n",
        "        \"Trees\", # forest green\n",
        "        \"Grass\", # pistachio\n",
        "        \"Flooded Vegetation\", # mint green\n",
        "        \"Crops\", #sunshine yellow\n",
        "        \"Scrub/Shrub\", # pale tan\n",
        "        \"Built Area\", # cherry red\n",
        "        \"Bare Ground\", # off-white\n",
        "        \"Snow/Ice\", # baby blue\n",
        "        \"Clouds\" # silver\n",
        "    ],\n",
        "\n",
        "    \"colors\":[\n",
        "      \"#1A5BAB\",\n",
        "      \"#358221\",\n",
        "      \"#A7D282\",\n",
        "      \"#87D19E\",\n",
        "      \"#FFDB5C\",\n",
        "      \"#EECFA8\",\n",
        "      \"#ED022A\",\n",
        "      \"#EDE9E4\",\n",
        "      \"#F2FAFF\",\n",
        "      \"#C8C8C8\"\n",
        "    ]\n",
        "}"
      ],
      "metadata": {
        "id": "9Xl4FSk26qp-"
      },
      "execution_count": 88,
      "outputs": []
    },
    {
      "cell_type": "code",
      "source": [
        "# Add map layers\n",
        "Map.add_ee_layer(model,{'min':1,'max':10,'palette':dict['colors']},'Classified 2021')\n",
        "visParamsTrue = {'bands': ['B4','B3','B2'], 'min': 0, 'max': 3000, 'gamma':1.4}\n",
        "Map.add_ee_layer(image, visParamsTrue, 'Landsat 2021')"
      ],
      "metadata": {
        "id": "iSWz7V3lyrmR"
      },
      "execution_count": 89,
      "outputs": []
    },
    {
      "cell_type": "code",
      "source": [
        "# Add map control\n",
        "Map.add_child(folium.LayerControl())"
      ],
      "metadata": {
        "colab": {
          "base_uri": "https://localhost:8080/",
          "height": 706
        },
        "id": "fTxBenKwtWEX",
        "outputId": "6cb266f6-bf44-40ac-ee80-68bbb22f5a4e"
      },
      "execution_count": 90,
      "outputs": [
        {
          "output_type": "execute_result",
          "data": {
            "text/plain": [
              "<folium.folium.Map at 0x7f614ce93df0>"
            ],
            "text/html": [
              "<div style=\"width:100%;\"><div style=\"position:relative;width:100%;height:0;padding-bottom:60%;\"><span style=\"color:#565656\">Make this Notebook Trusted to load map: File -> Trust Notebook</span><iframe srcdoc=\"&lt;!DOCTYPE html&gt;\n",
              "&lt;html&gt;\n",
              "&lt;head&gt;\n",
              "    \n",
              "    &lt;meta http-equiv=&quot;content-type&quot; content=&quot;text/html; charset=UTF-8&quot; /&gt;\n",
              "    \n",
              "        &lt;script&gt;\n",
              "            L_NO_TOUCH = false;\n",
              "            L_DISABLE_3D = false;\n",
              "        &lt;/script&gt;\n",
              "    \n",
              "    &lt;style&gt;html, body {width: 100%;height: 100%;margin: 0;padding: 0;}&lt;/style&gt;\n",
              "    &lt;style&gt;#map {position:absolute;top:0;bottom:0;right:0;left:0;}&lt;/style&gt;\n",
              "    &lt;script src=&quot;https://cdn.jsdelivr.net/npm/leaflet@1.9.3/dist/leaflet.js&quot;&gt;&lt;/script&gt;\n",
              "    &lt;script src=&quot;https://code.jquery.com/jquery-1.12.4.min.js&quot;&gt;&lt;/script&gt;\n",
              "    &lt;script src=&quot;https://cdn.jsdelivr.net/npm/bootstrap@5.2.2/dist/js/bootstrap.bundle.min.js&quot;&gt;&lt;/script&gt;\n",
              "    &lt;script src=&quot;https://cdnjs.cloudflare.com/ajax/libs/Leaflet.awesome-markers/2.0.2/leaflet.awesome-markers.js&quot;&gt;&lt;/script&gt;\n",
              "    &lt;link rel=&quot;stylesheet&quot; href=&quot;https://cdn.jsdelivr.net/npm/leaflet@1.9.3/dist/leaflet.css&quot;/&gt;\n",
              "    &lt;link rel=&quot;stylesheet&quot; href=&quot;https://cdn.jsdelivr.net/npm/bootstrap@5.2.2/dist/css/bootstrap.min.css&quot;/&gt;\n",
              "    &lt;link rel=&quot;stylesheet&quot; href=&quot;https://netdna.bootstrapcdn.com/bootstrap/3.0.0/css/bootstrap.min.css&quot;/&gt;\n",
              "    &lt;link rel=&quot;stylesheet&quot; href=&quot;https://cdn.jsdelivr.net/npm/@fortawesome/fontawesome-free@6.2.0/css/all.min.css&quot;/&gt;\n",
              "    &lt;link rel=&quot;stylesheet&quot; href=&quot;https://cdnjs.cloudflare.com/ajax/libs/Leaflet.awesome-markers/2.0.2/leaflet.awesome-markers.css&quot;/&gt;\n",
              "    &lt;link rel=&quot;stylesheet&quot; href=&quot;https://cdn.jsdelivr.net/gh/python-visualization/folium/folium/templates/leaflet.awesome.rotate.min.css&quot;/&gt;\n",
              "    \n",
              "            &lt;meta name=&quot;viewport&quot; content=&quot;width=device-width,\n",
              "                initial-scale=1.0, maximum-scale=1.0, user-scalable=no&quot; /&gt;\n",
              "            &lt;style&gt;\n",
              "                #map_eb5946dd8cf21e2ab7cfa1c0be67ba05 {\n",
              "                    position: relative;\n",
              "                    width: 100.0%;\n",
              "                    height: 100.0%;\n",
              "                    left: 0.0%;\n",
              "                    top: 0.0%;\n",
              "                }\n",
              "                .leaflet-container { font-size: 1rem; }\n",
              "            &lt;/style&gt;\n",
              "        \n",
              "&lt;/head&gt;\n",
              "&lt;body&gt;\n",
              "    \n",
              "    \n",
              "            &lt;div class=&quot;folium-map&quot; id=&quot;map_eb5946dd8cf21e2ab7cfa1c0be67ba05&quot; &gt;&lt;/div&gt;\n",
              "        \n",
              "&lt;/body&gt;\n",
              "&lt;script&gt;\n",
              "    \n",
              "    \n",
              "            var map_eb5946dd8cf21e2ab7cfa1c0be67ba05 = L.map(\n",
              "                &quot;map_eb5946dd8cf21e2ab7cfa1c0be67ba05&quot;,\n",
              "                {\n",
              "                    center: [53.350139999999996, -6.266155000000001],\n",
              "                    crs: L.CRS.EPSG3857,\n",
              "                    zoom: 8,\n",
              "                    zoomControl: true,\n",
              "                    preferCanvas: false,\n",
              "                }\n",
              "            );\n",
              "\n",
              "            \n",
              "\n",
              "        \n",
              "    \n",
              "            var tile_layer_e6b726084e34b9e3172b956671ae0cf6 = L.tileLayer(\n",
              "                &quot;https://{s}.tile.openstreetmap.org/{z}/{x}/{y}.png&quot;,\n",
              "                {&quot;attribution&quot;: &quot;Data by \\u0026copy; \\u003ca target=\\&quot;_blank\\&quot; href=\\&quot;http://openstreetmap.org\\&quot;\\u003eOpenStreetMap\\u003c/a\\u003e, under \\u003ca target=\\&quot;_blank\\&quot; href=\\&quot;http://www.openstreetmap.org/copyright\\&quot;\\u003eODbL\\u003c/a\\u003e.&quot;, &quot;detectRetina&quot;: false, &quot;maxNativeZoom&quot;: 18, &quot;maxZoom&quot;: 18, &quot;minZoom&quot;: 0, &quot;noWrap&quot;: false, &quot;opacity&quot;: 1, &quot;subdomains&quot;: &quot;abc&quot;, &quot;tms&quot;: false}\n",
              "            ).addTo(map_eb5946dd8cf21e2ab7cfa1c0be67ba05);\n",
              "        \n",
              "    \n",
              "            var tile_layer_4a095101f9fcd9ba8da961d54d5cfa59 = L.tileLayer(\n",
              "                &quot;https://mt1.google.com/vt/lyrs-s\\u0026x-{x}\\u0026y-{y}\\u0026z-{z}&quot;,\n",
              "                {&quot;attribution&quot;: &quot;Google&quot;, &quot;detectRetina&quot;: false, &quot;maxNativeZoom&quot;: 18, &quot;maxZoom&quot;: 18, &quot;minZoom&quot;: 0, &quot;noWrap&quot;: false, &quot;opacity&quot;: 1, &quot;subdomains&quot;: &quot;abc&quot;, &quot;tms&quot;: false}\n",
              "            ).addTo(map_eb5946dd8cf21e2ab7cfa1c0be67ba05);\n",
              "        \n",
              "    \n",
              "            var tile_layer_0621f1838484c9dbc87e4c4148b3d1b8 = L.tileLayer(\n",
              "                &quot;https://earthengine.googleapis.com/v1alpha/projects/earthengine-legacy/maps/d9c7ded66ce9855e6001ef9903ab6370-47388c8b04cc49a9d1620f02cd2ffa2f/tiles/{z}/{x}/{y}&quot;,\n",
              "                {&quot;attribution&quot;: &quot;Google Earth Engine&quot;, &quot;detectRetina&quot;: false, &quot;maxNativeZoom&quot;: 18, &quot;maxZoom&quot;: 18, &quot;minZoom&quot;: 0, &quot;noWrap&quot;: false, &quot;opacity&quot;: 1, &quot;subdomains&quot;: &quot;abc&quot;, &quot;tms&quot;: false}\n",
              "            ).addTo(map_eb5946dd8cf21e2ab7cfa1c0be67ba05);\n",
              "        \n",
              "    \n",
              "            var tile_layer_60bfa2ad643be9798d51f5621a9e6aad = L.tileLayer(\n",
              "                &quot;https://earthengine.googleapis.com/v1alpha/projects/earthengine-legacy/maps/7a4afecd1f3c28a9474b708745338c34-043c9c910ed40a79a4d93f689e947d05/tiles/{z}/{x}/{y}&quot;,\n",
              "                {&quot;attribution&quot;: &quot;Google Earth Engine&quot;, &quot;detectRetina&quot;: false, &quot;maxNativeZoom&quot;: 18, &quot;maxZoom&quot;: 18, &quot;minZoom&quot;: 0, &quot;noWrap&quot;: false, &quot;opacity&quot;: 1, &quot;subdomains&quot;: &quot;abc&quot;, &quot;tms&quot;: false}\n",
              "            ).addTo(map_eb5946dd8cf21e2ab7cfa1c0be67ba05);\n",
              "        \n",
              "    \n",
              "            var layer_control_55b71e1c3c76e3153b4d9a2c33e832a2 = {\n",
              "                base_layers : {\n",
              "                    &quot;openstreetmap&quot; : tile_layer_e6b726084e34b9e3172b956671ae0cf6,\n",
              "                },\n",
              "                overlays :  {\n",
              "                    &quot;Google Satellite Hybrid&quot; : tile_layer_4a095101f9fcd9ba8da961d54d5cfa59,\n",
              "                    &quot;Classified 2021&quot; : tile_layer_0621f1838484c9dbc87e4c4148b3d1b8,\n",
              "                    &quot;Landsat 2021&quot; : tile_layer_60bfa2ad643be9798d51f5621a9e6aad,\n",
              "                },\n",
              "            };\n",
              "            L.control.layers(\n",
              "                layer_control_55b71e1c3c76e3153b4d9a2c33e832a2.base_layers,\n",
              "                layer_control_55b71e1c3c76e3153b4d9a2c33e832a2.overlays,\n",
              "                {&quot;autoZIndex&quot;: true, &quot;collapsed&quot;: true, &quot;position&quot;: &quot;topright&quot;}\n",
              "            ).addTo(map_eb5946dd8cf21e2ab7cfa1c0be67ba05);\n",
              "        \n",
              "&lt;/script&gt;\n",
              "&lt;/html&gt;\" style=\"position:absolute;width:100%;height:100%;left:0;top:0;border:none !important;\" allowfullscreen webkitallowfullscreen mozallowfullscreen></iframe></div></div>"
            ]
          },
          "metadata": {},
          "execution_count": 90
        }
      ]
    }
  ]
}